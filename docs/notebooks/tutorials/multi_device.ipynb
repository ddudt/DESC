{
 "cells": [
  {
   "cell_type": "markdown",
   "metadata": {
    "vscode": {
     "languageId": "plaintext"
    }
   },
   "source": [
    "# How to use Multiple Devices\n",
    "## Solving Equilibrium"
   ]
  },
  {
   "cell_type": "code",
   "execution_count": 1,
   "metadata": {},
   "outputs": [],
   "source": [
    "import sys\n",
    "import os\n",
    "\n",
    "sys.path.insert(0, os.path.abspath(\".\"))\n",
    "sys.path.append(os.path.abspath(\"../../../\"))"
   ]
  },
  {
   "cell_type": "code",
   "execution_count": 2,
   "metadata": {},
   "outputs": [],
   "source": [
    "num_device = 2\n",
    "from desc import set_device, _set_cpu_count\n",
    "\n",
    "_set_cpu_count(num_device)\n",
    "set_device(\"cpu\", num_device=num_device)"
   ]
  },
  {
   "cell_type": "code",
   "execution_count": 3,
   "metadata": {},
   "outputs": [],
   "source": [
    "# import jax\n",
    "\n",
    "# jax.config.update(\"jax_compilation_cache_dir\", \"./jax-caches\")\n",
    "# jax.config.update(\"jax_persistent_cache_min_entry_size_bytes\", -1)\n",
    "# jax.config.update(\"jax_persistent_cache_min_compile_time_secs\", 0)"
   ]
  },
  {
   "cell_type": "code",
   "execution_count": 4,
   "metadata": {},
   "outputs": [
    {
     "name": "stdout",
     "output_type": "stream",
     "text": [
      "DESC version 0.13.0+1543.g3edf125e0.dirty,using JAX backend, jax version=0.5.0, jaxlib version=0.5.0, dtype=float64\n",
      "Using 2 CPUs:\n",
      "\t CPU 0: TFRT_CPU_0 with 7.25 GB available memory\n",
      "\t CPU 1: TFRT_CPU_1 with 7.25 GB available memory\n"
     ]
    }
   ],
   "source": [
    "import numpy as np\n",
    "\n",
    "from desc import config as desc_config\n",
    "from desc.examples import get\n",
    "from desc.objectives import *\n",
    "from desc.objectives.getters import *\n",
    "from desc.grid import LinearGrid\n",
    "from desc.backend import jnp\n",
    "from desc.plotting import plot_grid\n",
    "from desc.backend import jax\n",
    "from desc.optimize import Optimizer"
   ]
  },
  {
   "cell_type": "code",
   "execution_count": 5,
   "metadata": {},
   "outputs": [
    {
     "name": "stderr",
     "output_type": "stream",
     "text": [
      "/home/yigit/Codes/DESC/desc/utils.py:560: UserWarning: Reducing radial (L) resolution can make plasma boundary inconsistent. Recommend calling `eq.surface = eq.get_surface_at(rho=1.0)`\n",
      "  warnings.warn(colored(msg, \"yellow\"), err)\n"
     ]
    }
   ],
   "source": [
    "eq = get(\"HELIOTRON\")\n",
    "eq.change_resolution(3, 3, 3, 6, 6, 6)"
   ]
  },
  {
   "cell_type": "code",
   "execution_count": 6,
   "metadata": {},
   "outputs": [
    {
     "name": "stdout",
     "output_type": "stream",
     "text": [
      "Precomputing transforms\n",
      "Precomputing transforms\n"
     ]
    },
    {
     "name": "stderr",
     "output_type": "stream",
     "text": [
      "/home/yigit/Codes/DESC/desc/utils.py:560: UserWarning: \n",
      "When using multiple devices, the ObjectiveFunction will run each \n",
      "sub-objective on the device specified in the sub-objective. \n",
      "Setting the deriv_mode to 'blocked' to ensure that each sub-objective\n",
      "runs on the correct device.\n",
      "  warnings.warn(colored(msg, \"yellow\"), err)\n"
     ]
    },
    {
     "name": "stdout",
     "output_type": "stream",
     "text": [
      "TFRT_CPU_0\n",
      "TFRT_CPU_1\n"
     ]
    }
   ],
   "source": [
    "obj = get_parallel_forcebalance(eq, num_device=num_device)\n",
    "cons = get_fixed_boundary_constraints(eq)\n",
    "for obji in obj.objectives:\n",
    "    print(jax.devices(desc_config[\"kind\"])[obji._device_id])"
   ]
  },
  {
   "cell_type": "code",
   "execution_count": 7,
   "metadata": {
    "editable": true,
    "slideshow": {
     "slide_type": ""
    },
    "tags": []
   },
   "outputs": [
    {
     "name": "stdout",
     "output_type": "stream",
     "text": [
      "Building objective: lcfs R\n",
      "Building objective: lcfs Z\n",
      "Building objective: fixed Psi\n",
      "Building objective: fixed pressure\n",
      "Building objective: fixed iota\n",
      "Building objective: fixed sheet current\n",
      "Building objective: self_consistency R\n",
      "Building objective: self_consistency Z\n",
      "Building objective: lambda gauge\n",
      "Building objective: axis R self consistency\n",
      "Building objective: axis Z self consistency\n",
      "Timer: Objective build = 1.46 sec\n",
      "Timer: Linear constraint projection build = 4.23 sec\n",
      "Number of parameters: 76\n",
      "Number of objectives: 2028\n",
      "Timer: Initializing the optimization = 5.74 sec\n",
      "\n",
      "Starting optimization\n",
      "Using method: lsq-exact\n",
      "DESC version 0.13.0+1543.g3edf125e0.dirty,using JAX backend, jax version=0.5.0, jaxlib version=0.5.0, dtype=float64\n",
      "CPU Info:  13th Gen Intel(R) Core(TM) i5-1335U CPU with 6.56 GB available memory\n",
      "This should run on device id:0\n",
      "DESC version 0.13.0+1543.g3edf125e0.dirty,using JAX backend, jax version=0.5.0, jaxlib version=0.5.0, dtype=float64\n",
      "CPU Info:  13th Gen Intel(R) Core(TM) i5-1335U CPU with 6.36 GB available memory\n",
      "This should run on device id:1\n",
      "   Iteration     Total nfev        Cost      Cost reduction    Step norm     Optimality   \n",
      "       0              1          2.515e+07                                    7.084e+03   \n",
      "DESC version 0.13.0+1543.g3edf125e0.dirty,using JAX backend, jax version=0.5.0, jaxlib version=0.5.0, dtype=float64\n",
      "CPU Info:  13th Gen Intel(R) Core(TM) i5-1335U CPU with 6.31 GB available memory\n",
      "This should run on device id:0\n",
      "DESC version 0.13.0+1543.g3edf125e0.dirty,using JAX backend, jax version=0.5.0, jaxlib version=0.5.0, dtype=float64\n",
      "CPU Info:  13th Gen Intel(R) Core(TM) i5-1335U CPU with 6.27 GB available memory\n",
      "This should run on device id:1\n",
      "       1              2          1.201e+07      1.314e+07      5.573e-01      4.358e+03   \n",
      "Warning: Maximum number of iterations has been exceeded.\n",
      "         Current function value: 1.201e+07\n",
      "         Total delta_x: 5.573e-01\n",
      "         Iterations: 1\n",
      "         Function evaluations: 2\n",
      "         Jacobian evaluations: 2\n",
      "Timer: Solution time = 20.5 sec\n",
      "Timer: Avg time per step = 10.2 sec\n",
      "==============================================================================================================\n",
      "                                                                 Start  -->   End\n",
      "Total (sum of squares):                                      8.361e+10  -->   1.201e+07, \n",
      "Maximum absolute Force error:                                4.884e+05  -->   8.231e+05 (N)\n",
      "Minimum absolute Force error:                                1.534e-10  -->   1.402e-10 (N)\n",
      "Average absolute Force error:                                1.541e+05  -->   1.375e+05 (N)\n",
      "Maximum absolute Force error:                                3.928e-02  -->   6.619e-02 (normalized)\n",
      "Minimum absolute Force error:                                1.234e-17  -->   1.128e-17 (normalized)\n",
      "Average absolute Force error:                                1.239e-02  -->   1.106e-02 (normalized)\n",
      "Maximum absolute Force error:                                6.431e+12  -->   5.142e+10 (N)\n",
      "Minimum absolute Force error:                                7.111e-13  -->   1.655e-12 (N)\n",
      "Average absolute Force error:                                5.758e+09  -->   1.046e+08 (N)\n",
      "Maximum absolute Force error:                                5.172e+05  -->   4.135e+03 (normalized)\n",
      "Minimum absolute Force error:                                5.719e-20  -->   1.331e-19 (normalized)\n",
      "Average absolute Force error:                                4.631e+02  -->   8.416e+00 (normalized)\n",
      "R boundary error:                                            0.000e+00  -->   0.000e+00 (m)\n",
      "Z boundary error:                                            0.000e+00  -->   0.000e+00 (m)\n",
      "Fixed Psi error:                                             0.000e+00  -->   0.000e+00 (Wb)\n",
      "Fixed pressure profile error:                                0.000e+00  -->   0.000e+00 (Pa)\n",
      "Fixed iota profile error:                                    0.000e+00  -->   0.000e+00 (dimensionless)\n",
      "Fixed sheet current error:                                   0.000e+00  -->   0.000e+00 (~)\n",
      "==============================================================================================================\n"
     ]
    },
    {
     "data": {
      "text/plain": [
       "(Equilibrium at 0x7f58e4012a50 (L=3, M=3, N=3, NFP=19, sym=True, spectral_indexing=fringe),\n",
       "     message: Maximum number of iterations has been exceeded.\n",
       "     success: False\n",
       "         fun: [-1.320e-04 -1.389e-04 ...  1.297e-01  9.594e-03]\n",
       "           x: [-9.209e-03 -1.293e-01 ...  1.671e-02  1.916e-01]\n",
       "         nit: 1\n",
       "        cost: 12008336.70921457\n",
       "           v: [ 1.000e+00  1.000e+00 ...  1.000e+00  1.000e+00]\n",
       "  optimality: 4357.5087192217225\n",
       "        nfev: 2\n",
       "        njev: 2\n",
       "        allx: [Array([-3.392e-05,  8.921e-06, ...,  0.000e+00,  0.000e+00],      dtype=float64), Array([ 2.764e-03,  2.509e-03, ...,  0.000e+00,  0.000e+00],      dtype=float64)]\n",
       "       alltr: [Array( 4.615e+06, dtype=float64), np.float64(4614795.672796082)]\n",
       "     history: [[{'R_lmn': Array([-3.392e-05,  8.921e-06, ...,  0.000e+00,  1.850e-05],      dtype=float64), 'Z_lmn': Array([ 9.011e-06,  1.167e-05, ..., -3.697e-05,  1.686e-05],      dtype=float64), 'L_lmn': Array([-6.194e-07, -1.567e-05, ..., -9.721e-06, -1.466e-05],      dtype=float64), 'p_l': Array([ 1.800e+04, -3.600e+04, ...,  0.000e+00,  0.000e+00],      dtype=float64), 'i_l': Array([ 1.000e+00,  1.500e+00, ...,  0.000e+00,  0.000e+00],      dtype=float64), 'c_l': Array([], shape=(0,), dtype=float64), 'Psi': Array([ 1.000e+00], dtype=float64), 'Te_l': Array([], shape=(0,), dtype=float64), 'ne_l': Array([], shape=(0,), dtype=float64), 'Ti_l': Array([], shape=(0,), dtype=float64), 'Zeff_l': Array([], shape=(0,), dtype=float64), 'a_lmn': Array([], shape=(0,), dtype=float64), 'Ra_n': Array([ 1.039e+01,  1.019e-01,  1.330e-03,  1.737e-05],      dtype=float64), 'Za_n': Array([ 1.802e-05,  1.335e-03,  9.939e-02], dtype=float64), 'Rb_lmn': Array([ 0.000e+00,  0.000e+00, ...,  0.000e+00,  0.000e+00],      dtype=float64), 'Zb_lmn': Array([ 0.000e+00,  0.000e+00, ...,  0.000e+00,  0.000e+00],      dtype=float64), 'I': Array([], shape=(0,), dtype=float64), 'G': Array([], shape=(0,), dtype=float64), 'Phi_mn': Array([], shape=(0,), dtype=float64)}], [{'R_lmn': Array([ 2.764e-03,  2.509e-03, ...,  0.000e+00,  1.410e-03],      dtype=float64), 'Z_lmn': Array([-3.028e-03, -4.071e-03, ...,  2.461e-03,  1.527e-03],      dtype=float64), 'L_lmn': Array([ 2.251e-05, -3.981e-03, ..., -3.894e-03, -1.955e-03],      dtype=float64), 'p_l': Array([ 1.800e+04, -3.600e+04, ...,  0.000e+00,  0.000e+00],      dtype=float64), 'i_l': Array([ 1.000e+00,  1.500e+00, ...,  0.000e+00,  0.000e+00],      dtype=float64), 'c_l': Array([], shape=(0,), dtype=float64), 'Psi': Array([ 1.000e+00], dtype=float64), 'Te_l': Array([], shape=(0,), dtype=float64), 'ne_l': Array([], shape=(0,), dtype=float64), 'Ti_l': Array([], shape=(0,), dtype=float64), 'Zeff_l': Array([], shape=(0,), dtype=float64), 'a_lmn': Array([], shape=(0,), dtype=float64), 'Ra_n': Array([ 1.028e+01,  1.494e-01, -1.956e-03, -1.073e-03],      dtype=float64), 'Za_n': Array([-6.057e-03,  2.128e-02,  1.771e-01], dtype=float64), 'Rb_lmn': Array([ 0.000e+00,  0.000e+00, ...,  0.000e+00,  0.000e+00],      dtype=float64), 'Zb_lmn': Array([ 0.000e+00,  0.000e+00, ...,  0.000e+00,  0.000e+00],      dtype=float64), 'I': Array([], shape=(0,), dtype=float64), 'G': Array([], shape=(0,), dtype=float64), 'Phi_mn': Array([], shape=(0,), dtype=float64)}]])"
      ]
     },
     "execution_count": 7,
     "metadata": {},
     "output_type": "execute_result"
    }
   ],
   "source": [
    "eq.solve(objective=obj, constraints=cons, maxiter=1, ftol=0, gtol=0, xtol=0, verbose=3)"
   ]
  },
  {
   "cell_type": "code",
   "execution_count": null,
   "metadata": {},
   "outputs": [],
   "source": [
    "for obji in obj.objectives:\n",
    "    plot_grid(obji.constants[\"transforms\"][\"grid\"])"
   ]
  },
  {
   "cell_type": "markdown",
   "metadata": {},
   "source": [
    "## Using other Objectives\n",
    "Above we used the convenience function for force balance objective, but we can also other objectives with this approach. There are some extra steps you need to apply though."
   ]
  },
  {
   "cell_type": "code",
   "execution_count": null,
   "metadata": {},
   "outputs": [],
   "source": [
    "eq = get(\"HELIOTRON\")\n",
    "eq.change_resolution(3, 3, 3, 6, 6, 6)"
   ]
  },
  {
   "cell_type": "code",
   "execution_count": null,
   "metadata": {},
   "outputs": [],
   "source": [
    "grid1 = LinearGrid(\n",
    "    M=eq.M_grid, N=eq.N_grid, NFP=eq.NFP, rho=np.array([0.2, 0.4]), sym=True\n",
    ")\n",
    "grid2 = LinearGrid(\n",
    "    M=eq.M_grid, N=eq.N_grid, NFP=eq.NFP, rho=np.array([0.6, 0.8, 1.0]), sym=True\n",
    ")\n",
    "\n",
    "obj1 = QuasisymmetryTwoTerm(eq=eq, helicity=(1, eq.NFP), grid=grid1, device_id=0)\n",
    "obj2 = QuasisymmetryTwoTerm(eq=eq, helicity=(1, eq.NFP), grid=grid2, device_id=1)\n",
    "obj3 = AspectRatio(eq=eq, target=8, weight=100, device_id=1)\n",
    "\n",
    "objs = [obj1, obj2, obj3]\n",
    "for obji in objs:\n",
    "    obji.build(verbose=3)\n",
    "    obji = jax.device_put(obji, jax.devices(desc_config[\"kind\"])[obji._device_id])\n",
    "    obji.things[0] = eq\n",
    "\n",
    "objective = ObjectiveFunction(objs)\n",
    "objective.build(verbose=3)"
   ]
  },
  {
   "cell_type": "code",
   "execution_count": null,
   "metadata": {},
   "outputs": [],
   "source": [
    "k = 1\n",
    "R_modes = np.vstack(\n",
    "    (\n",
    "        [0, 0, 0],\n",
    "        eq.surface.R_basis.modes[np.max(np.abs(eq.surface.R_basis.modes), 1) > k, :],\n",
    "    )\n",
    ")\n",
    "Z_modes = eq.surface.Z_basis.modes[np.max(np.abs(eq.surface.Z_basis.modes), 1) > k, :]\n",
    "constraints = (\n",
    "    FixBoundaryR(eq=eq, modes=R_modes),\n",
    "    FixBoundaryZ(eq=eq, modes=Z_modes),\n",
    "    FixPressure(eq=eq),\n",
    "    FixPsi(eq=eq),\n",
    ")\n",
    "optimizer = Optimizer(\"lsq-exact\")"
   ]
  },
  {
   "cell_type": "code",
   "execution_count": null,
   "metadata": {},
   "outputs": [],
   "source": [
    "eq.optimize(\n",
    "    objective=objective,\n",
    "    constraints=constraints,\n",
    "    optimizer=optimizer,\n",
    "    maxiter=1,\n",
    "    verbose=3,\n",
    "    options={\n",
    "        \"initial_trust_ratio\": 1.0,\n",
    "    },\n",
    ")"
   ]
  },
  {
   "cell_type": "markdown",
   "metadata": {},
   "source": [
    "## Optimization using Proximal Method"
   ]
  },
  {
   "cell_type": "code",
   "execution_count": null,
   "metadata": {},
   "outputs": [],
   "source": [
    "eq = get(\"precise_QA\")\n",
    "# eq.change_resolution(12, 12, 12, 24, 24, 24)\n",
    "eq.change_resolution(3, 3, 3, 6, 6, 6)"
   ]
  },
  {
   "cell_type": "code",
   "execution_count": null,
   "metadata": {},
   "outputs": [],
   "source": [
    "grid1 = LinearGrid(\n",
    "    M=eq.M_grid, N=eq.N_grid, NFP=eq.NFP, rho=jnp.linspace(0.2, 0.5, 4), sym=True\n",
    ")\n",
    "grid2 = LinearGrid(\n",
    "    M=eq.M_grid, N=eq.N_grid, NFP=eq.NFP, rho=jnp.linspace(0.6, 1.0, 6), sym=True\n",
    ")\n",
    "\n",
    "obj1 = QuasisymmetryTwoTerm(eq=eq, helicity=(1, eq.NFP), grid=grid1, device_id=0)\n",
    "obj2 = QuasisymmetryTwoTerm(eq=eq, helicity=(1, eq.NFP), grid=grid2, device_id=0)\n",
    "obj3 = AspectRatio(eq=eq, target=8, weight=100, device_id=0)\n",
    "\n",
    "objs = [obj1, obj2, obj3]\n",
    "for obji in objs:\n",
    "    obji.build(verbose=3)\n",
    "    obji = jax.device_put(obji, jax.devices(desc_config[\"kind\"])[obji._device_id])\n",
    "    obji.things[0] = eq\n",
    "\n",
    "objective = ObjectiveFunction(objs)\n",
    "objective.build(verbose=3)"
   ]
  },
  {
   "cell_type": "code",
   "execution_count": null,
   "metadata": {},
   "outputs": [],
   "source": [
    "k = 1\n",
    "R_modes = np.vstack(\n",
    "    (\n",
    "        [0, 0, 0],\n",
    "        eq.surface.R_basis.modes[np.max(np.abs(eq.surface.R_basis.modes), 1) > k, :],\n",
    "    )\n",
    ")\n",
    "Z_modes = eq.surface.Z_basis.modes[np.max(np.abs(eq.surface.Z_basis.modes), 1) > k, :]\n",
    "constraints = (\n",
    "    ForceBalance(eq=eq),\n",
    "    FixBoundaryR(eq=eq, modes=R_modes),\n",
    "    FixBoundaryZ(eq=eq, modes=Z_modes),\n",
    "    FixPressure(eq=eq),\n",
    "    FixPsi(eq=eq),\n",
    "    FixCurrent(eq=eq),\n",
    ")\n",
    "optimizer = Optimizer(\"proximal-lsq-exact\")"
   ]
  },
  {
   "cell_type": "code",
   "execution_count": null,
   "metadata": {},
   "outputs": [],
   "source": [
    "eq.optimize(\n",
    "    objective=objective,\n",
    "    constraints=constraints,\n",
    "    optimizer=optimizer,\n",
    "    maxiter=1,\n",
    "    verbose=3,\n",
    "    options={\n",
    "        \"initial_trust_ratio\": 1.0,\n",
    "    },\n",
    ")"
   ]
  },
  {
   "cell_type": "code",
   "execution_count": null,
   "metadata": {},
   "outputs": [],
   "source": []
  }
 ],
 "metadata": {
  "kernelspec": {
   "display_name": "desc-env",
   "language": "python",
   "name": "python3"
  },
  "language_info": {
   "codemirror_mode": {
    "name": "ipython",
    "version": 3
   },
   "file_extension": ".py",
   "mimetype": "text/x-python",
   "name": "python",
   "nbconvert_exporter": "python",
   "pygments_lexer": "ipython3",
   "version": "3.12.0"
  }
 },
 "nbformat": 4,
 "nbformat_minor": 4
}
